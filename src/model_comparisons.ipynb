{
 "cells": [
  {
   "cell_type": "markdown",
   "metadata": {},
   "source": [
    "### Ideas\n",
    "\n",
    "Save actual y_test for 40 and 40 (changes otherwise) so can just read in"
   ]
  },
  {
   "cell_type": "code",
   "execution_count": 2,
   "metadata": {},
   "outputs": [
    {
     "name": "stderr",
     "output_type": "stream",
     "text": [
      "/Users/silaskoemen/Library/CloudStorage/OneDrive-ImperialCollegeLondon/Imperial/NowcastPNN/src/data_functions.py:88: DtypeWarning: Columns (7,11,23,45,46,47,55,65,69,75,86,102) have mixed types. Specify dtype option on import or set low_memory=False.\n",
      "  dengdf = pd.read_csv(f\"../data/derived/DENG{state}.csv\", index_col=0)\n"
     ]
    },
    {
     "name": "stdout",
     "output_type": "stream",
     "text": [
      "2922 2013-01-01 00:00:00 2020-12-31 00:00:00\n"
     ]
    }
   ],
   "source": [
    "%load_ext autoreload\n",
    "%autoreload 3\n",
    "from data_functions import get_dataset\n",
    "from torch.utils.data import Dataset, DataLoader\n",
    "from torch.utils.data.sampler import SubsetRandomSampler as SRS\n",
    "from train_utils import SubsetSampler as SS\n",
    "from sklearn.model_selection import train_test_split as TTS\n",
    "import torch\n",
    "import random\n",
    "import numpy as np\n",
    "torch.use_deterministic_algorithms(True) # reproducibility\n",
    "\n",
    "STATE = \"SP\"\n",
    "WEEKS = False\n",
    "TRIANGLE = True\n",
    "PAST_UNITS = 40\n",
    "MAX_DELAY = 40\n",
    "RANDOM_SPLIT = True\n",
    "SEED = 1234\n",
    "DEVICE = \"mps\"\n",
    "\n",
    "dataset = get_dataset(weeks=WEEKS, triangle=TRIANGLE, past_units=PAST_UNITS, max_delay=MAX_DELAY, state=STATE)\n",
    "## Define train and test indices\n",
    "if RANDOM_SPLIT:\n",
    "    all_idcs = range(dataset.__len__())\n",
    "    train_idcs, test_idcs = TTS(all_idcs, test_size=0.25, shuffle=True, random_state=SEED)\n",
    "    train_idcs, val_idcs = TTS(train_idcs, test_size=0.25, shuffle=True, random_state=SEED)\n",
    "    #train_idcs, test_idcs = [*range(600), *range(950, dataset.__len__())], [*range(600, 950)]\n",
    "    VAL_BATCH_SIZE, TEST_BATCH_SIZE = len(val_idcs), len(test_idcs)\n",
    "else:\n",
    "    if WEEKS: # could also do random split, for now last indices as test\n",
    "        train_idcs, test_idcs = range(300), range(300, dataset.__len__())\n",
    "        TEST_BATCH_SIZE = dataset.__len__() - 300\n",
    "    else: \n",
    "        train_idcs, test_idcs = range(2100), range(2100, dataset.__len__())\n",
    "        train_idcs, val_idcs = TTS(train_idcs, test_size=0.25, shuffle=True, random_state=SEED)\n",
    "        VAL_BATCH_SIZE, TEST_BATCH_SIZE = len(val_idcs), len(test_idcs)\n",
    "        \n",
    "## Define generator so sampling during training is deterministic and reproducible\n",
    "g = torch.Generator()\n",
    "g.manual_seed(SEED)\n",
    "test_sampler = SS(test_idcs)\n",
    "test_loader = DataLoader(dataset, batch_size=TEST_BATCH_SIZE, sampler=test_sampler, shuffle=False)\n",
    "\n",
    "def set_seeds(SEED):\n",
    "    torch.manual_seed(SEED)\n",
    "    np.random.seed(SEED)\n",
    "    random.seed(SEED)\n",
    "\n",
    "set_seeds(SEED)\n"
   ]
  },
  {
   "cell_type": "markdown",
   "metadata": {},
   "source": [
    "### Ideas\n",
    "\n",
    "Change implement other function in metrics that translates dict to levels_dict, s.t. can call that for experiments, but else just store and read in from pickle for all models, compare and make plots of all together"
   ]
  },
  {
   "cell_type": "code",
   "execution_count": 3,
   "metadata": {},
   "outputs": [
    {
     "name": "stdout",
     "output_type": "stream",
     "text": [
      "The autoreload extension is already loaded. To reload it, use:\n",
      "  %reload_ext autoreload\n"
     ]
    }
   ],
   "source": [
    "%load_ext autoreload\n",
    "%autoreload 3\n",
    "from metrics import RIVM_to_dict, evaluate_model, Epi_to_dict\n",
    "import numpy as np\n",
    "\n",
    "rivm_dict = RIVM_to_dict()\n",
    "epi_dict = Epi_to_dict()"
   ]
  },
  {
   "cell_type": "markdown",
   "metadata": {},
   "source": [
    "Dimensions are dictionary with specific test dates, then list of lists, which can be transformed into an array.\n",
    "\n",
    "Has shape [14, 9, 2], meaning current date (index 0), along with 13 past dates, then 9 levels, from median to min and max, 7 standard levels in between\n",
    "\n",
    "Then per level lower and upper bound"
   ]
  },
  {
   "cell_type": "code",
   "execution_count": 4,
   "metadata": {},
   "outputs": [],
   "source": [
    "import pandas as pd\n",
    "test_dates = pd.read_csv(\"test_dates.csv\")"
   ]
  },
  {
   "cell_type": "markdown",
   "metadata": {},
   "source": [
    "Read in correct values to evaluate model"
   ]
  },
  {
   "cell_type": "markdown",
   "metadata": {},
   "source": [
    "Convert from dictionary per date to dictionary per level of same-day nowcast"
   ]
  },
  {
   "cell_type": "code",
   "execution_count": 68,
   "metadata": {},
   "outputs": [],
   "source": [
    "levels = [0, 0.05, 0.1, 0.25, 0.5, 0.75, 0.9, 0.95, 1]\n",
    "level_idcs = {0: 0, 0.05: 1, 0.1: 2, 0.25: 3, 0.5: 4, 0.75: 5, 0.9: 6, 0.95: 7, 1: 8}\n",
    "#mean_idx, min_max_idx = 0, 8\n",
    "\n",
    "# Initialize the new dictionary\n",
    "level_dict_rivm = {level: [] for level in levels}\n",
    "\n",
    "# Iterate through the original dictionary and populate the new dictionary\n",
    "for date, array in rivm_dict.items():\n",
    "    for level in levels:\n",
    "        # Extract the index for the current level\n",
    "        idx = level_idcs[level]\n",
    "        # Get the lower and upper bounds (same-day, first row)\n",
    "        bounds = array[0, idx, :]\n",
    "        # Append to the corresponding list in the new dictionary\n",
    "        level_dict_rivm[level].append(bounds)\n",
    "\n",
    "# Convert lists to NumPy arrays\n",
    "for level in levels:\n",
    "    level_dict_rivm[level] = np.array(level_dict_rivm[level])\n",
    "    if level == 0:\n",
    "        level_dict_rivm[level] = level_dict_rivm[level][:, 0]\n",
    "    else:    \n",
    "        level_dict_rivm[level] = (level_dict_rivm[level][:, 0], level_dict_rivm[level][:, 1])\n"
   ]
  },
  {
   "cell_type": "code",
   "execution_count": 5,
   "metadata": {},
   "outputs": [],
   "source": [
    "from metrics import date_to_level_dict\n",
    "\n",
    "levels_rivm = date_to_level_dict(rivm_dict)\n",
    "levels_epi = date_to_level_dict(epi_dict)"
   ]
  },
  {
   "cell_type": "code",
   "execution_count": 6,
   "metadata": {},
   "outputs": [],
   "source": [
    "## Save RIVM dict, so can be used after\n",
    "\n",
    "import pickle\n",
    "\n",
    "with open('../data/model_predictions/rivm_dict.pkl', 'wb') as f:\n",
    "    pickle.dump(levels_rivm, f)\n",
    "\n",
    "with open('../data/model_predictions/rivm_dict.pkl', 'wb') as f:\n",
    "    pickle.dump(levels_epi, f)"
   ]
  },
  {
   "cell_type": "code",
   "execution_count": 8,
   "metadata": {},
   "outputs": [],
   "source": [
    "with open('../data/model_predictions/nowcast_pnn_dict.pkl', 'rb') as f:\n",
    "    levels_pnn = pickle.load(f)\n"
   ]
  },
  {
   "cell_type": "code",
   "execution_count": 21,
   "metadata": {},
   "outputs": [
    {
     "name": "stdout",
     "output_type": "stream",
     "text": [
      "------ RIVM model ------\n",
      "Actual coverage per level | 5%: 5.49 | 10%: 9.7 | 25%: 23.07 | 50%: 46.27 | 75%: 68.07 | 90%: 84.53 | 95%: 89.03 |\n",
      "PICA: 0.03544303797468355\n",
      "CWC: 0.2587956043242977\n",
      "WIS: 250.3374279725725\n",
      "IS: 781.4161973734148\n",
      "IS: under = 106.60153665927594 | spread = 472.79753867791845 | over = 202.0171220362204 | total = 781.4161973734148\n",
      "------ Epinowcast model ------\n",
      "Actual coverage per level | 5%: 6.61 | 10%: 12.52 | 25%: 26.72 | 50%: 49.09 | 75%: 73.14 | 90%: 86.22 | 95%: 91.84 |\n",
      "PICA: 0.02224231464737792\n",
      "CWC: 0.24470832673384904\n",
      "WIS: 305.22665527302786\n",
      "IS: 949.9955032623753\n",
      "IS: under = 300.84916581185735 | spread = 589.2480861965039 | over = 59.89825125401408 | total = 949.9955032623753\n",
      "------ NowcastPNN model ------\n",
      "Actual coverage per level | 5%: 5.2 | 10%: 8.3 | 25%: 23.07 | 50%: 46.55 | 75%: 68.35 | 90%: 84.11 | 95%: 89.73 |\n",
      "PICA: 0.03584488647779788\n",
      "CWC: 0.27504270292047656\n",
      "WIS: 165.92158945271052\n",
      "IS: 522.692159988579\n",
      "IS: under = 88.34509621451659 | spread = 295.6461271850512 | over = 138.7009365890112 | total = 522.692159988579\n"
     ]
    }
   ],
   "source": [
    "from metrics import evaluate_PIs\n",
    "\n",
    "print(\"------ RIVM model ------\")\n",
    "rivm_coverages, rivm_is_scores = evaluate_PIs(levels_rivm, test_loader)\n",
    "print(\"------ Epinowcast model ------\")\n",
    "epi_coverages, epi_is_scores = evaluate_PIs(levels_epi, test_loader)\n",
    "print(\"------ NowcastPNN model ------\")\n",
    "pnn_coverages, pnn_is_scores = evaluate_PIs(levels_pnn, test_loader)"
   ]
  },
  {
   "cell_type": "code",
   "execution_count": 35,
   "metadata": {},
   "outputs": [
    {
     "data": {
      "text/plain": [
       "(array([300.84916581, 589.2480862 ,  59.89825125, 949.99550326]),\n",
       " array([ 88.34509621, 295.64612719, 138.70093659, 522.69215999]),\n",
       " array([106.60153666, 472.79753868, 202.01712204, 781.41619737]))"
      ]
     },
     "execution_count": 35,
     "metadata": {},
     "output_type": "execute_result"
    }
   ],
   "source": [
    "epi_is_scores, pnn_is_scores, rivm_is_scores"
   ]
  },
  {
   "cell_type": "code",
   "execution_count": 54,
   "metadata": {},
   "outputs": [
    {
     "data": {
      "image/png": "[encoded data removed]",
      "text/plain": [
       "<Figure size 750x350 with 1 Axes>"
      ]
     },
     "metadata": {},
     "output_type": "display_data"
    }
   ],
   "source": [
    "from plotting import plot_is_decomposition, plot_coverages\n",
    "\n",
    "plot_is_decomposition(epi_scores=epi_is_scores, rivm_scores=rivm_is_scores, pnn_scores=pnn_is_scores)"
   ]
  },
  {
   "cell_type": "code",
   "execution_count": 53,
   "metadata": {},
   "outputs": [
    {
     "data": {
      "image/png": "[encoded data removed]",
      "text/plain": [
       "<Figure size 750x350 with 1 Axes>"
      ]
     },
     "metadata": {},
     "output_type": "display_data"
    }
   ],
   "source": [
    "plot_coverages(epi_coverages=epi_coverages, rivm_coverages=rivm_coverages, pnn_coverages=pnn_coverages)"
   ]
  },
  {
   "cell_type": "code",
   "execution_count": null,
   "metadata": {},
   "outputs": [],
   "source": []
  }
 ],
 "metadata": {
  "kernelspec": {
   "display_name": "thesis_venv",
   "language": "python",
   "name": "python3"
  },
  "language_info": {
   "codemirror_mode": {
    "name": "ipython",
    "version": 3
   },
   "file_extension": ".py",
   "mimetype": "text/x-python",
   "name": "python",
   "nbconvert_exporter": "python",
   "pygments_lexer": "ipython3",
   "version": "3.11.4"
  }
 },
 "nbformat": 4,
 "nbformat_minor": 2
}
